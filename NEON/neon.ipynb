{
 "cells": [
  {
   "cell_type": "markdown",
   "id": "e30eef79",
   "metadata": {},
   "source": [
    "# NEON\n",
    "\n",
    "This notebook is an excercise in executing ISOFIT on two dates from the NEON dataset and interpreting the outputs of ISOFIT. "
   ]
  },
  {
   "cell_type": "code",
   "execution_count": 1,
   "id": "d0c9b9fd",
   "metadata": {
    "tags": []
   },
   "outputs": [],
   "source": [
    "%matplotlib inline"
   ]
  },
  {
   "cell_type": "code",
   "execution_count": 2,
   "id": "44e2871f",
   "metadata": {
    "tags": []
   },
   "outputs": [],
   "source": [
    "# Setup logging\n",
    "import logging\n",
    "import os\n",
    "\n",
    "logging.getLogger().setLevel(logging.INFO)\n",
    "\n",
    "BASE = '/home/ray'"
   ]
  },
  {
   "cell_type": "markdown",
   "id": "893fd5ac",
   "metadata": {},
   "source": [
    "## Setup\n",
    "\n",
    "The NEON dataset is structured as the following:\n",
    "```\n",
    "├── FieldSpectrometer\n",
    "│   ├── BlackTarp01\n",
    "│   │   ├── Data\n",
    "│   │   │   ├── BlackTarp01_IndScienceSpectra.dat\n",
    "│   │   │   ├── BlackTarp01_PanelBRDF.dat\n",
    "│   │   │   ├── BlackTarp01_PanelSpectra.dat\n",
    "│   │   │   ├── BlackTarp01_RadTrace.dat\n",
    "│   │   │   ├── BlackTarp01_Refl.dat\n",
    "│   │   │   ├── BlackTarp01_ScienceSpectra.dat\n",
    "│   │   │   └── BlackTarp01_optNum.dat\n",
    "│   │   └── Plot\n",
    "│   │       ├── 01_BlackTarp01_optNum.png\n",
    "│   │       ├── 02_BlackTarp01_RadTrace.png\n",
    "│   │       ├── 03_BlackTarp01_PanelBRDF.png\n",
    "│   │       ├── 04_BlackTarp01_PanelSpectra.png\n",
    "│   │       ├── 05_BlackTarp01_ScienceSpectra.png\n",
    "│   │       └── 06_BlackTarp01_Refl.png\n",
    "│   ├── BlackTarp02\n",
    "│   │   └── ... [trimmed]\n",
    "│   └── ... [trimmed]\n",
    "├── Radiance\n",
    "│   ├── NIS01_20210403_173647_obs_ort\n",
    "│   ├── NIS01_20210403_173647_obs_ort.hdr\n",
    "│   ├── NIS01_20210403_173647_rdn_ort\n",
    "│   ├── NIS01_20210403_173647_rdn_ort.hdr\n",
    "│   ├── NIS01_20210403_174150_obs_ort\n",
    "│   ├── NIS01_20210403_174150_obs_ort.hdr\n",
    "│   ├── NIS01_20210403_174150_rdn_ort\n",
    "│   └── NIS01_20210403_174150_rdn_ort.hdr\n",
    "├── Reflectance\n",
    "│   ├── NIS01_20210403_173647_rdn_ort_atm_nodata.bsq\n",
    "│   ├── NIS01_20210403_173647_rdn_ort_atm_nodata.hdr\n",
    "│   ├── NIS01_20210403_174150_rdn_ort_atm_nodata.bsq\n",
    "│   └── NIS01_20210403_174150_rdn_ort_atm_nodata.hdr\n",
    "└── Report\n",
    "    └── 20210403_R10E_P1C2_TBMT_VicariousCalibration_Report.pdf\n",
    "```\n",
    "\n",
    "ISOFIT needs at minimum three pieces as input:\n",
    "\n",
    "    1. Radiance measurements (rdn)\n",
    "    2. Observation values    (obs)\n",
    "    3. Location information  (loc)\n",
    "\n",
    "NEON provides the RDN and OBS files for two dates:\n",
    "\n",
    "```\n",
    "Radiance\n",
    "├── 173647\n",
    "│   ├── NIS01_20210403_173647_obs_ort\n",
    "│   ├── NIS01_20210403_173647_obs_ort.hdr\n",
    "│   ├── NIS01_20210403_173647_rdn_ort\n",
    "│   └── NIS01_20210403_173647_rdn_ort.hdr\n",
    "└── 174150\n",
    "    ├── NIS01_20210403_174150_obs_ort\n",
    "    ├── NIS01_20210403_174150_obs_ort.hdr\n",
    "    ├── NIS01_20210403_174150_rdn_ort\n",
    "    └── NIS01_20210403_174150_rdn_ort.hdr\n",
    "```\n",
    "\n",
    "As such, the LOC file needs to be generated or faked. \n"
   ]
  },
  {
   "cell_type": "code",
   "execution_count": 3,
   "id": "be6e2d53",
   "metadata": {
    "tags": []
   },
   "outputs": [],
   "source": [
    "import numpy as np\n",
    "\n",
    "# Extract the image locations of each point of interest (POI)\n",
    "# These are defined in the NEON report as pixel locations, so we round here to convert to indices\n",
    "report = {}\n",
    "report['173647'] = {           # Upp L Y  | Low R Y  | Upp L X | Low R X\n",
    "    'WhiteTarp': np.round([2224.9626, 2230.9771, 316.0078, 324.9385,]).astype(int),\n",
    "    'BlackTarp': np.round([2224.9626, 2231.0032, 328.0086, 333.9731,]).astype(int),\n",
    "    'Veg'      : np.round([2245.0381, 2258.8103, 343.9006, 346.9423,]).astype(int),\n",
    "    'EWRoad'   : np.round([2214.9905, 2216.9978, 348.9902, 373.0080,]).astype(int),\n",
    "    'NSRoad'   : np.round([2205.9580, 2225.9612, 357.9536, 359.9608,]).astype(int)\n",
    "}\n",
    "report['174150'] = {           # Upp L Y | Low R Y | Upp L X  | Low R X\n",
    "    'WhiteTarp': np.round([653.9626, 659.9771, 3143.0078, 3151.9385]).astype(int),\n",
    "    'BlackTarp': np.round([653.9626, 660.0032, 3155.0086, 3160.9731]).astype(int),\n",
    "    'Veg'      : np.round([674.0381, 687.8103, 3170.9006, 3173.9423]).astype(int),\n",
    "    'EWRoad'   : np.round([643.9905, 645.9978, 3175.9902, 3200.0080]).astype(int),\n",
    "    'NSRoad'   : np.round([634.9580, 654.9612, 3184.9536, 3186.9608]).astype(int)\n",
    "}\n",
    "# Converts numpy array to comma-separated string for ISOFIT\n",
    "toString = lambda array: ', '.join(str(v) for v in array)"
   ]
  },
  {
   "cell_type": "code",
   "execution_count": 4,
   "id": "e3f01d1a",
   "metadata": {
    "tags": []
   },
   "outputs": [],
   "source": [
    "# Which NEON date to process - change this to process a different date\n",
    "neon_ids = ['173647', '174150']\n",
    "neon_id  = neon_ids[0]\n",
    "\n",
    "# Select the locations from the neon id -- roi == Regions of Interest\n",
    "roi = report[neon_id]\n",
    "\n",
    "# Path to the input NEON data\n",
    "input_path = f'{BASE}/isofit/.idea/neon/data/TableMountainCalibration/Radiance'"
   ]
  },
  {
   "cell_type": "code",
   "execution_count": 5,
   "id": "f23c25c7",
   "metadata": {
    "tags": []
   },
   "outputs": [],
   "source": [
    "from spectral.io import envi\n",
    "\n",
    "def getMetadata(file, remove=['fwhm', 'band names', 'wavelength', 'wavelength units']):\n",
    "    rdn_ds   = envi.open(file)\n",
    "    metadata = rdn_ds.metadata.copy()\n",
    "    for key in remove:\n",
    "        if key in metadata:\n",
    "            del metadata[key]\n",
    "        else:\n",
    "            print(f'Key {key!r} not found in the metadata, skipping')\n",
    "\n",
    "    return metadata\n",
    "\n",
    "def fakeLOC(rdn, lon, lat, elv, output=None, **kwargs):\n",
    "    \"\"\"\n",
    "    \"\"\"\n",
    "    if not output:\n",
    "        if 'rdn' in rdn:\n",
    "            output = rdn.replace('rdn', 'loc')\n",
    "        else:\n",
    "            print('Error: No ouput file specified and cannot generate a unique name')\n",
    "            return False\n",
    "\n",
    "    metadata = getMetadata(rdn, **kwargs)\n",
    "    metadata['bands'] = 3\n",
    "    \n",
    "    loc_ds = envi.create_image(output, metadata, ext='',force=True)\n",
    "    loc    = loc_ds.open_memmap(interleave='bip', writable=True)\n",
    "\n",
    "    loc[..., 0] = lon\n",
    "    loc[..., 1] = lat\n",
    "    loc[..., 2] = elv\n",
    "\n",
    "    del loc\n",
    "    del loc_ds"
   ]
  },
  {
   "cell_type": "code",
   "execution_count": null,
   "id": "98252646",
   "metadata": {
    "tags": []
   },
   "outputs": [],
   "source": [
    "fakeLOC(\n",
    "    rdn = f'{input_path}/NIS01_20210403_{neon_id}_rdn_ort.hdr',\n",
    "    lon = -105.237000,\n",
    "    lat = 40.125000,\n",
    "    elv = 1.689\n",
    ")"
   ]
  },
  {
   "cell_type": "markdown",
   "id": "8a2cde13",
   "metadata": {},
   "source": [
    "# Apply OE\n",
    "\n",
    "The next part walks through running the ISOFIT utility script `isofit/utils/apply_oe.py`. This is the first step of executing ISOFIT and will generate a default configuration."
   ]
  },
  {
   "cell_type": "code",
   "execution_count": null,
   "id": "7fe25d83",
   "metadata": {},
   "outputs": [],
   "source": [
    "# If running inside the Docker, this is already set. You may need to point this to your sRTMnet installation path.\n",
    "os.environ['EMULATOR_PATH'] # = \"/path/to/sRTMnet\"\n",
    "os.environ['SIXS_DIR'] # = \"/home/ray/6sv-2.1\""
   ]
  },
  {
   "cell_type": "code",
   "execution_count": 6,
   "id": "47c2f5dd",
   "metadata": {
    "tags": []
   },
   "outputs": [],
   "source": [
    "# ISOFIT output directory\n",
    "output_path = f'{BASE}/tutorials/NEON/output/'\n",
    "\n",
    "# NEON doesn't provide a surface file, generate one\n",
    "f\"{BASE}/isofit/examples/\"\n",
    "\n",
    "# Args for apply_oe since it's not intended to be called as a module\n",
    "class ARGS:\n",
    "    # NEON-specific arguments\n",
    "    sensor            = f'neon'\n",
    "    emulator_base     = os.environ['EMULATOR_PATH']\n",
    "    logging_level     = 'INFO'\n",
    "    n_cores           = os.cpu_count()\n",
    "    segmentation_size = 40\n",
    "    surface_category  = 'multicomponent_surface'\n",
    "    presolve          = 0\n",
    "    # int params can't get around config type checks\n",
    "    empirical_line     = False\n",
    "    analytical_line    = False\n",
    "    segmentation_size  = 40\n",
    "    pressure_elevation = 0\n",
    "    # Do not change this\n",
    "    ray_temp_dir = '/tmp/ray'\n",
    "    \n",
    "    def __init__(self, output, id):\n",
    "        self.input_radiance    = f'{input_path}/NIS01_20210403_{id}_rdn_ort'\n",
    "        self.input_loc         = f'{input_path}/NIS01_20210403_{id}_loc_ort'\n",
    "        self.input_obs         = f'{input_path}/NIS01_20210403_{id}_obs_ort'\n",
    "        self.working_directory = output\n",
    "    \n",
    "    # Allows apply_oe to not raise an exception on missing parameters\n",
    "    def __getattr__(self, key):\n",
    "        parent = super()\n",
    "        if hasattr(parent, key):\n",
    "            return getattr(parent, key)\n",
    "\n",
    "args = ARGS(output_path, neon_id)"
   ]
  },
  {
   "cell_type": "code",
   "execution_count": null,
   "id": "bb1632d6",
   "metadata": {
    "tags": []
   },
   "outputs": [],
   "source": [
    "# Generate the initial configuration\n",
    "from isofit.utils.apply_oe import apply_oe\n",
    "\n",
    "# This should take some time. If it doesn't, you should remove the try/except and rerun to see if a FileNotFoundError is being raised that isn't the surface.mat. \n",
    "try:\n",
    "    apply_oe(args)\n",
    "except FileNotFoundError:\n",
    "    print('Surface.mat file missing, run the next code block to generate it')"
   ]
  },
  {
   "cell_type": "markdown",
   "id": "ed7b0058",
   "metadata": {},
   "source": [
    "## Surface Generation\n",
    "\n",
    "The next part is to generate a `surface.mat` file. These files are uniquely generated based off of the `wavelengths.txt` file generated in the previous step by `apply_oe.py`. A `surface.json` is already provided for this example, but this is a config file that must be developed by hand. Examples you could copy are found in the `examples/20171108_Pasadena` and `examples/20151026_SantaMonica` of the ISOFIT repository. "
   ]
  },
  {
   "cell_type": "code",
   "execution_count": null,
   "id": "1c4e361e",
   "metadata": {
    "tags": []
   },
   "outputs": [],
   "source": [
    "from isofit.utils import surface_model\n",
    "\n",
    "# Build the surface model\n",
    "surface_model(f'{output_path}/config/surface.json')\n",
    "\n",
    "print('Done')"
   ]
  },
  {
   "cell_type": "markdown",
   "id": "d3c21d98",
   "metadata": {},
   "source": [
    "## Running Retrievals\n",
    "\n",
    "Now that `apply_oe` generated initial configurations and LUTs, and `surface_model` generated the `surface.mat`, now `Isofit` itself can be called to begin performing retrievals. Since everything is default, the results are not expected to be too great. "
   ]
  },
  {
   "cell_type": "code",
   "execution_count": null,
   "id": "db13278f",
   "metadata": {},
   "outputs": [],
   "source": [
    "from isofit.core.isofit import Isofit\n",
    "\n",
    "# Now run actual retrievals\n",
    "model = Isofit(f'{output_path}/config/NIS01_20210403_{neon_id}_modtran.json')\n",
    "# model = Isofit(f'{output_path}/config/NIS01_20210403_{neon_id}_h2o.json')\n",
    "\n",
    "# model.run()"
   ]
  },
  {
   "cell_type": "code",
   "execution_count": null,
   "id": "d1980b1f",
   "metadata": {
    "scrolled": true
   },
   "outputs": [],
   "source": [
    "region = 'Veg'\n",
    "model.run(toString(roi[region]))"
   ]
  },
  {
   "cell_type": "markdown",
   "id": "bfb3e8f7",
   "metadata": {},
   "source": [
    "## Analyzing\n",
    "\n",
    "Isofit has been successfully ran and a reflectance retrieval has been generated! \n",
    "\n",
    "---\n",
    "\n",
    "Everything below here is still very much a work in progress"
   ]
  },
  {
   "cell_type": "code",
   "execution_count": null,
   "id": "09d685cd",
   "metadata": {
    "scrolled": true,
    "tags": []
   },
   "outputs": [],
   "source": [
    "# xarray and rioxarry (engine=\"rasterio\") are not installed by default\n",
    "import xarray as xr\n",
    "\n",
    "from matplotlib import pyplot as plt"
   ]
  },
  {
   "cell_type": "code",
   "execution_count": null,
   "id": "70a7620c",
   "metadata": {
    "tags": []
   },
   "outputs": [],
   "source": [
    "# Open the output reflectance in xarray\n",
    "ds = xr.open_dataset(\"/home/ray/tutorials/NEON/output/output/NIS01_20210403_173647_rfl\", engine=\"rasterio\")"
   ]
  },
  {
   "cell_type": "code",
   "execution_count": null,
   "id": "ec646bf6-adf3-405e-bbe8-bd9f8696ea98",
   "metadata": {},
   "outputs": [],
   "source": [
    "ds = xr.open_dataset(\"/home/ray/isofit/.idea/neon/data/TableMountainCalibration/Radiance/NIS01_20210403_173647_rdn_ort\", engine=\"rasterio\")"
   ]
  },
  {
   "cell_type": "code",
   "execution_count": null,
   "id": "892fa775",
   "metadata": {
    "tags": []
   },
   "outputs": [],
   "source": [
    "# Retrieve the coordinates for this location\n",
    "y0, y1, x0, x1 = coords = roi[region]\n",
    "\n",
    "# Select only this area\n",
    "ns = ds.isel(y=slice(y0, y1)).isel(x=slice(x0, x1))\n",
    "ns = ns['band_data']\n",
    "ns.load()"
   ]
  },
  {
   "cell_type": "code",
   "execution_count": null,
   "id": "658df596-d937-43ea-a4a7-8ae13dd80dfb",
   "metadata": {
    "tags": []
   },
   "outputs": [],
   "source": [
    "mask = (1350 < ns.wavelength) & (ns.wavelength < 1450)\n",
    "ns[mask, :] = np.nan\n",
    "mask = (1800 < ns.wavelength) & (ns.wavelength < 1955)\n",
    "ns[mask, :] = np.nan"
   ]
  },
  {
   "cell_type": "code",
   "execution_count": null,
   "id": "6acf1b90",
   "metadata": {},
   "outputs": [],
   "source": [
    "# Plot\n",
    "fig, ax = plt.subplots(figsize=(12, 5))\n",
    "\n",
    "ns.mean(['x', 'y']).plot(x='wavelength', ax=ax)\n",
    "ax.set_xticks(list(range(350, 2601, 250)))\n",
    "ax.set_ylabel('Reflectance')\n",
    "ax.set_title(f'Reflectance for {region} on {neon_id}')"
   ]
  },
  {
   "cell_type": "code",
   "execution_count": null,
   "id": "b60dc919",
   "metadata": {},
   "outputs": [],
   "source": [
    "oxygen A-band feature about 765 nm -- big spike would mean geometry is wrong ie. elevation\n",
    "CO2 is the big player of 2000s\n",
    "typically shows as a \"w\" in about 1990 to 2100 range"
   ]
  },
  {
   "cell_type": "markdown",
   "id": "bc4fd2ea",
   "metadata": {},
   "source": [
    "## Iterating\n",
    "\n",
    "The above highlighted some problem areas that need to be addressed. To get started, ISOFIT is comprised of three primary pieces:\n",
    "\n",
    "1. The `Isofit` object\n",
    "2. The `ForwardModel` object\n",
    "3. The `IO` object\n",
    "\n",
    "While the `Isofit` object is not required, unlike the other two, it is helpful to have the object on hand."
   ]
  },
  {
   "cell_type": "code",
   "execution_count": null,
   "id": "2dfc3d60-ef35-4afe-b698-d8cf46974d38",
   "metadata": {
    "tags": []
   },
   "outputs": [],
   "source": [
    "from isofit.configs      import configs\n",
    "from isofit.core.fileio  import IO\n",
    "from isofit.core.forward import ForwardModel\n",
    "from isofit.core.isofit  import Isofit\n",
    "from isofit.inversion.inverse import Inversion\n",
    "\n",
    "cfile  = f'{output_path}/config/NIS01_20210403_{neon_id}_modtran.json'\n",
    "config = configs.create_new_config(cfile)\n",
    "\n",
    "# First, load the required objects\n",
    "im = Isofit(cfile) # 1, ISOFIT\n",
    "fm = ForwardModel(config) # 2, Forward Model\n",
    "io = IO(config, fm) # 3, IO object\n",
    "iv = Inversion(config, fm)\n"
   ]
  },
  {
   "cell_type": "code",
   "execution_count": null,
   "id": "b6756cb8-3d4d-44f4-85bf-05d30ab62f1e",
   "metadata": {
    "tags": []
   },
   "outputs": [],
   "source": [
    "# Retrieve the coordinates for this location\n",
    "region = 'Veg'\n",
    "y0, y1, x0, x1 = coords = roi[region]\n",
    "\n",
    "mid = lambda v0, v1: int(v0 + np.abs(v1 - v0) / 2)\n",
    "indata = io.get_components_at_index(row=mid(y0, y1), col=mid(x0, x1))"
   ]
  },
  {
   "cell_type": "code",
   "execution_count": null,
   "id": "2fa48d2d-75b4-4f9a-8199-0751d4209d33",
   "metadata": {
    "tags": []
   },
   "outputs": [],
   "source": [
    "import matplotlib.pyplot as plt \n",
    "\n",
    "fig, ax = plt.subplots(figsize=(12, 6))\n",
    "ax.plot(io.meas_wl, indata.meas)\n",
    "ax.set_xlabel('Wavelength')\n",
    "ax.set_ylabel('Input data')"
   ]
  },
  {
   "cell_type": "code",
   "execution_count": null,
   "id": "36ede7df-ed6f-4769-ba64-9943c83a141b",
   "metadata": {},
   "outputs": [],
   "source": [
    "states = iv.invert(indata.meas, indata.geom)"
   ]
  },
  {
   "cell_type": "code",
   "execution_count": null,
   "id": "a8589616-ad25-43be-9fc7-59253a73291d",
   "metadata": {},
   "outputs": [],
   "source": [
    "def closest_wl(mv):\n",
    "    return np.argmin(np.abs(io.meas_wl-mv))\n",
    "wl_nan = io.meas_wl.copy()\n",
    "wl_nan[closest_wl(1360):closest_wl(1410)] = np.nan\n",
    "wl_nan[closest_wl(1800):closest_wl(1970)] = np.nan"
   ]
  },
  {
   "cell_type": "code",
   "execution_count": null,
   "id": "13a11192-9340-4562-a44f-b03307ca9342",
   "metadata": {},
   "outputs": [],
   "source": [
    "for n in range(states.shape[0]):\n",
    "    plt.plot(wl_nan, states[n,:-2], label=f'{n}')\n",
    "plt.legend()"
   ]
  },
  {
   "cell_type": "code",
   "execution_count": null,
   "id": "f11db376-cc4c-412e-a6e5-d215436eb1ff",
   "metadata": {},
   "outputs": [],
   "source": [
    "states[-1,-2:]"
   ]
  },
  {
   "cell_type": "code",
   "execution_count": null,
   "id": "962c98fd-8fd4-48ff-8566-3c3c05602e50",
   "metadata": {},
   "outputs": [],
   "source": [
    "indata.geom.__dict__"
   ]
  }
 ],
 "metadata": {
  "kernelspec": {
   "display_name": "Python [conda env:isofit]",
   "language": "python",
   "name": "conda-env-isofit-py"
  },
  "language_info": {
   "codemirror_mode": {
    "name": "ipython",
    "version": 3
   },
   "file_extension": ".py",
   "mimetype": "text/x-python",
   "name": "python",
   "nbconvert_exporter": "python",
   "pygments_lexer": "ipython3",
   "version": "3.10.8"
  }
 },
 "nbformat": 4,
 "nbformat_minor": 5
}
